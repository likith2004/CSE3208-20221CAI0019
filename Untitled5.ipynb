{
  "nbformat": 4,
  "nbformat_minor": 0,
  "metadata": {
    "colab": {
      "provenance": []
    },
    "kernelspec": {
      "name": "python3",
      "display_name": "Python 3"
    },
    "language_info": {
      "name": "python"
    }
  },
  "cells": [
    {
      "cell_type": "code",
      "execution_count": 3,
      "metadata": {
        "colab": {
          "base_uri": "https://localhost:8080/"
        },
        "id": "ECQ6UbOcOQas",
        "outputId": "819eb1e2-e9cb-433b-a388-63cdeca39b07"
      },
      "outputs": [
        {
          "output_type": "stream",
          "name": "stdout",
          "text": [
            "hi \n",
            "my name is likith\n",
            "i am a student of presidency\n",
            "\n"
          ]
        }
      ],
      "source": [
        "file1=open(\"sample_data/My File.txt\",\"r\")\n",
        "\n",
        "text=file1.read()\n",
        "\n",
        "print(text)\n"
      ]
    },
    {
      "cell_type": "code",
      "source": [
        "file_path = \"sample_data/My File.txt\"\n",
        "def count_lines(file_path):\n",
        "  with open(file_path, \"r\") as file:\n",
        "    lines = file.readlines()\n",
        "    return len(lines)\n",
        "\n",
        "line_count = count_lines(file_path)\n",
        "print(f'the number of lines in the file is: {line_count}')"
      ],
      "metadata": {
        "colab": {
          "base_uri": "https://localhost:8080/"
        },
        "id": "3wj9DHXgRwxY",
        "outputId": "d5c035cf-ed72-4238-967a-dba89704e243"
      },
      "execution_count": 7,
      "outputs": [
        {
          "output_type": "stream",
          "name": "stdout",
          "text": [
            "the number of lines in the file is: 3\n"
          ]
        }
      ]
    },
    {
      "cell_type": "code",
      "source": [
        "def count_fields(file_path):\n",
        " with open(file_path, \"r\") as file:\n",
        "  first_line=file.readline().strip()\n",
        "  fields = first_line.split()\n",
        "  return len(fields)\n",
        "\n",
        "file_path=\"sample_data/My File.txt\"\n",
        "field_count = count_fields(file_path)\n",
        "print(f'the number of fields in the lines is: (field_count)')"
      ],
      "metadata": {
        "colab": {
          "base_uri": "https://localhost:8080/"
        },
        "id": "FpNtYHkHTKOr",
        "outputId": "7c773d5c-2f3d-4175-b787-768d2fbdb5b3"
      },
      "execution_count": 14,
      "outputs": [
        {
          "output_type": "stream",
          "name": "stdout",
          "text": [
            "the number of fields in the lines is: (field_count)\n"
          ]
        }
      ]
    }
  ]
}