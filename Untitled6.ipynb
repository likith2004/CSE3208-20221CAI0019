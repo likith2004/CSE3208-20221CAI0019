{
  "nbformat": 4,
  "nbformat_minor": 0,
  "metadata": {
    "colab": {
      "provenance": [],
      "toc_visible": true
    },
    "kernelspec": {
      "name": "python3",
      "display_name": "Python 3"
    },
    "language_info": {
      "name": "python"
    }
  },
  "cells": [
    {
      "cell_type": "code",
      "source": [
        "import csv\n",
        "\n",
        "# Replace 'file.csv' with the path to your CSV file\n",
        "file_path = 'sample_data/file.txt'\n",
        "\n",
        "with open(file_path, 'r') as file:\n",
        "    reader = csv.reader(file)\n",
        "\n",
        "    # Read all rows into a list\n",
        "    all_rows = list(reader)\n",
        "\n",
        "    # Count the number of lines (rows)\n",
        "    number_of_lines = len(all_rows)\n",
        "\n",
        "    # Get the header row (first row)\n",
        "    first_row = all_rows[0] if all_rows else []  # Handle empty files\n",
        "    number_of_columns = len(first_row)\n",
        "\n",
        "print(f'Number of lines (rows): {number_of_lines}')\n",
        "print(f'Number of columns: {number_of_columns}')"
      ],
      "metadata": {
        "colab": {
          "base_uri": "https://localhost:8080/"
        },
        "id": "VIs5aRTrIsRl",
        "outputId": "f4b4a1ba-48a8-4c25-be78-e3c5c9779a51"
      },
      "execution_count": 7,
      "outputs": [
        {
          "output_type": "stream",
          "name": "stdout",
          "text": [
            "Number of lines (rows): 5\n",
            "Number of columns: 0\n"
          ]
        }
      ]
    },
    {
      "source": [
        "import pandas as pd\n",
        "\n",
        "# Replace 'file.csv' with the path to your CSV file\n",
        "file_path = 'sample_data/file.txt'\n",
        "\n",
        "# Try to load data into a DataFrame, specifying the delimiter (assuming it's a tab)\n",
        "df = pd.read_csv(file_path, sep='\\t')  # Adjust the delimiter if necessary\n",
        "\n",
        "# Get the number of rows and columns\n",
        "number_of_rows, number_of_columns_in_df = df.shape\n",
        "\n",
        "print(f'Number of rows in DataFrame: {number_of_rows}')\n",
        "print(f'Number of columns in DataFrame: {number_of_columns_in_df}')"
      ],
      "cell_type": "code",
      "metadata": {
        "colab": {
          "base_uri": "https://localhost:8080/"
        },
        "id": "G9c4CgorK0Pg",
        "outputId": "d481fa2b-3c7e-40d4-db94-e833b3c92549"
      },
      "execution_count": 11,
      "outputs": [
        {
          "output_type": "stream",
          "name": "stdout",
          "text": [
            "Number of rows in DataFrame: 59\n",
            "Number of columns in DataFrame: 1\n"
          ]
        }
      ]
    }
  ]
}